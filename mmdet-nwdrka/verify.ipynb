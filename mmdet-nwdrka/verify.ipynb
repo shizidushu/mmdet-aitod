{
 "cells": [
  {
   "cell_type": "code",
   "execution_count": 1,
   "metadata": {},
   "outputs": [],
   "source": [
    "import os\n",
    "import glob"
   ]
  },
  {
   "cell_type": "code",
   "execution_count": 2,
   "metadata": {},
   "outputs": [
    {
     "name": "stderr",
     "output_type": "stream",
     "text": [
      "/home/yong/miniconda3/envs/aitod/lib/python3.9/site-packages/tqdm/auto.py:21: TqdmWarning: IProgress not found. Please update jupyter and ipywidgets. See https://ipywidgets.readthedocs.io/en/stable/user_install.html\n",
      "  from .autonotebook import tqdm as notebook_tqdm\n"
     ]
    }
   ],
   "source": [
    "from mmdet.apis import init_detector, inference_detector\n",
    "from mmdet.apis import show_result_pyplot"
   ]
  },
  {
   "cell_type": "code",
   "execution_count": 3,
   "metadata": {},
   "outputs": [
    {
     "name": "stdout",
     "output_type": "stream",
     "text": [
      "load checkpoint from local path: /mnt/d/5-Research/mmdet-aitod/mmdet-nwdrka/work_dirs/smoking_faster_r50_nwdrka_2x/latest.pth\n"
     ]
    }
   ],
   "source": [
    "# 修改config_name即可\n",
    "config_name = \"smoking_faster_r50_nwdrka_2x\"\n",
    "config_file = f'configs_nwdrka/nwd_rka/{config_name}.py'\n",
    "checkpoint_file = f'/mnt/d/5-Research/mmdet-aitod/mmdet-nwdrka/work_dirs/{config_name}/latest.pth'\n",
    "model = init_detector(config_file, checkpoint_file, device='cuda:0')  # or device='cuda:0'"
   ]
  },
  {
   "cell_type": "code",
   "execution_count": 4,
   "metadata": {},
   "outputs": [],
   "source": [
    "save_folder = f'./work_dirs/{config_name}_temp_test_result'\n",
    "os.makedirs(save_folder, exist_ok=True)"
   ]
  },
  {
   "cell_type": "code",
   "execution_count": 5,
   "metadata": {},
   "outputs": [],
   "source": [
    "img_paths = glob.glob('/mnt/c/Users/yong/Pictures/temp_tes/*.jpg')"
   ]
  },
  {
   "cell_type": "code",
   "execution_count": 6,
   "metadata": {},
   "outputs": [
    {
     "name": "stderr",
     "output_type": "stream",
     "text": [
      "/mnt/d/5-Research/mmdet-aitod/mmdet-nwdrka/mmdet/datasets/utils.py:66: UserWarning: \"ImageToTensor\" pipeline is replaced by \"DefaultFormatBundle\" for batch inference. It is recommended to manually replace it in the test data pipeline in your config file.\n",
      "  warnings.warn(\n"
     ]
    }
   ],
   "source": [
    "for img_path in img_paths:\n",
    "    result = inference_detector(model, img_path)\n",
    "    save_img_path = os.path.join(save_folder, os.path.basename(img_path))\n",
    "    show_result_pyplot(model, img_path, result, score_thr=0.1, out_file=save_img_path)"
   ]
  },
  {
   "cell_type": "code",
   "execution_count": null,
   "metadata": {},
   "outputs": [],
   "source": []
  }
 ],
 "metadata": {
  "kernelspec": {
   "display_name": "aitod",
   "language": "python",
   "name": "python3"
  },
  "language_info": {
   "codemirror_mode": {
    "name": "ipython",
    "version": 3
   },
   "file_extension": ".py",
   "mimetype": "text/x-python",
   "name": "python",
   "nbconvert_exporter": "python",
   "pygments_lexer": "ipython3",
   "version": "3.9.18"
  }
 },
 "nbformat": 4,
 "nbformat_minor": 2
}
